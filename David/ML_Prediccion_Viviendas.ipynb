{
 "cells": [
  {
   "cell_type": "markdown",
   "id": "f5b8ba36",
   "metadata": {},
   "source": [
    "\n",
    "# Predicción de Precios de Viviendas con Regresión Lineal y Redes Neuronales\n",
    "\n",
    "Este notebook implementa modelos de regresión lineal y redes neuronales para predecir precios de viviendas utilizando el dataset de California Housing. Incluye una introducción teórica, configuración del entorno, desarrollo del modelo y análisis de resultados.\n"
   ]
  },
  {
   "cell_type": "code",
   "execution_count": null,
   "id": "7dbbb19c",
   "metadata": {},
   "outputs": [],
   "source": [
    "\n",
    "print(\"📌 ¿Qué es una red neuronal artificial?\")\n",
    "print(\"Una red neuronal artificial es un modelo de aprendizaje automático inspirado en el cerebro humano. Se compone de nodos (neuronas) conectados en capas, capaces de aprender patrones complejos.\")\n",
    "\n",
    "print(\"\\n📌 ¿Qué es una regresión lineal?\")\n",
    "print(\"La regresión lineal es una técnica estadística para predecir un valor numérico (Y) a partir de otra variable (X), bajo una relación lineal: Y = aX + b.\")\n",
    "\n",
    "print(\"\\n📌 ¿Para qué sirve TensorFlow/Keras?\")\n",
    "print(\"TensorFlow es un framework para computación numérica. Keras es una interfaz que permite crear y entrenar redes neuronales de forma sencilla sobre TensorFlow.\")\n",
    "\n",
    "print(\"\\n📌 ¿Por qué usar GitHub?\")\n",
    "print(\"GitHub permite versionar tu código, trabajar en equipo, documentar tu proyecto y guardar respaldos en la nube.\")\n"
   ]
  },
  {
   "cell_type": "markdown",
   "id": "e4e42a08",
   "metadata": {},
   "source": [
    "## Preparación del entorno"
   ]
  },
  {
   "cell_type": "code",
   "execution_count": null,
   "id": "f8c0e3da",
   "metadata": {},
   "outputs": [],
   "source": [
    "\n",
    "!pip install -q tensorflow keras matplotlib numpy pandas scikit-learn\n"
   ]
  },
  {
   "cell_type": "code",
   "execution_count": null,
   "id": "c5b7786c",
   "metadata": {},
   "outputs": [],
   "source": [
    "\n",
    "import numpy as np\n",
    "import pandas as pd\n",
    "import matplotlib.pyplot as plt\n",
    "from sklearn.datasets import fetch_california_housing\n",
    "from sklearn.model_selection import train_test_split\n",
    "from sklearn.linear_model import LinearRegression\n",
    "from sklearn.metrics import mean_squared_error\n",
    "import tensorflow as tf\n",
    "from tensorflow import keras\n"
   ]
  },
  {
   "cell_type": "markdown",
   "id": "99f8855d",
   "metadata": {},
   "source": [
    "## Cargar y explorar dataset"
   ]
  },
  {
   "cell_type": "code",
   "execution_count": null,
   "id": "87e73aae",
   "metadata": {},
   "outputs": [],
   "source": [
    "\n",
    "data = fetch_california_housing()\n",
    "X = pd.DataFrame(data.data, columns=data.feature_names)\n",
    "y = pd.Series(data.target, name=\"MedHouseValue\")\n",
    "\n",
    "print(\"🔍 Primeras filas del dataset:\")\n",
    "display(X.head())\n",
    "print(\"Objetivo (target):\")\n",
    "display(y.head())\n"
   ]
  },
  {
   "cell_type": "markdown",
   "id": "a219d673",
   "metadata": {},
   "source": [
    "## Regresión Lineal Simple"
   ]
  },
  {
   "cell_type": "code",
   "execution_count": null,
   "id": "11e39cb8",
   "metadata": {},
   "outputs": [],
   "source": [
    "\n",
    "X_simple = X[['AveRooms']]\n",
    "X_train, X_test, y_train, y_test = train_test_split(X_simple, y, test_size=0.2, random_state=42)\n",
    "\n",
    "modelo_lineal = LinearRegression()\n",
    "modelo_lineal.fit(X_train, y_train)\n",
    "y_pred_lineal = modelo_lineal.predict(X_test)\n",
    "\n",
    "mse_lineal = mean_squared_error(y_test, y_pred_lineal)\n",
    "print(f\"MSE de regresión lineal: {mse_lineal:.4f}\")\n",
    "\n",
    "plt.figure(figsize=(6, 4))\n",
    "plt.scatter(X_test, y_test, color='gray', label='Datos reales', alpha=0.5)\n",
    "plt.plot(X_test, y_pred_lineal, color='red', label='Predicción')\n",
    "plt.xlabel('AveRooms')\n",
    "plt.ylabel('Precio (MedHouseValue)')\n",
    "plt.title('Regresión Lineal Simple')\n",
    "plt.legend()\n",
    "plt.grid(True)\n",
    "plt.show()\n"
   ]
  },
  {
   "cell_type": "markdown",
   "id": "4b9ae35e",
   "metadata": {},
   "source": [
    "## Red Neuronal con TensorFlow/Keras"
   ]
  },
  {
   "cell_type": "code",
   "execution_count": null,
   "id": "7499edf3",
   "metadata": {},
   "outputs": [],
   "source": [
    "\n",
    "X_train_full, X_test_full, y_train_full, y_test_full = train_test_split(X, y, test_size=0.2, random_state=42)\n",
    "\n",
    "modelo_nn = keras.Sequential([\n",
    "    keras.layers.Dense(64, activation='relu', input_shape=(X.shape[1],)),\n",
    "    keras.layers.Dense(32, activation='relu'),\n",
    "    keras.layers.Dense(1)\n",
    "])\n",
    "\n",
    "modelo_nn.compile(optimizer='adam', loss='mse')\n",
    "historial = modelo_nn.fit(X_train_full, y_train_full, epochs=10, validation_split=0.2, verbose=1)\n",
    "\n",
    "y_pred_nn = modelo_nn.predict(X_test_full).flatten()\n",
    "\n",
    "plt.figure(figsize=(6, 4))\n",
    "plt.scatter(y_test_full, y_pred_nn, alpha=0.5, label='Predicción')\n",
    "plt.plot([0, 5], [0, 5], 'r', label='Ideal')\n",
    "plt.xlabel('Valor Real')\n",
    "plt.ylabel('Predicción')\n",
    "plt.title('Red Neuronal - Predicción vs Real')\n",
    "plt.legend()\n",
    "plt.grid(True)\n",
    "plt.show()\n"
   ]
  },
  {
   "cell_type": "markdown",
   "id": "cebdbb02",
   "metadata": {},
   "source": [
    "## Análisis de errores y estructuras de control"
   ]
  },
  {
   "cell_type": "code",
   "execution_count": null,
   "id": "29c4160e",
   "metadata": {},
   "outputs": [],
   "source": [
    "\n",
    "errores = abs(y_test_full - y_pred_nn)\n",
    "errores_altos = []\n",
    "umbral = 1.0\n",
    "\n",
    "for i, error in enumerate(errores):\n",
    "    if error > umbral:\n",
    "        errores_altos.append({'index': i, 'error': float(error)})\n",
    "\n",
    "print(f\"📊 Casos con error mayor a {umbral}: {len(errores_altos)}\")\n",
    "errores_altos[:5]\n"
   ]
  }
 ],
 "metadata": {},
 "nbformat": 4,
 "nbformat_minor": 5
}